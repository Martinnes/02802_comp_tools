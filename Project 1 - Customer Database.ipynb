{
 "cells": [
  {
   "cell_type": "markdown",
   "metadata": {},
   "source": [
    "# Project 1: Customer Database\n",
    "**This is the first of three mandatory projects to be handed in as part of the assessment for the course 02807 Computational Tools for Data Science at Technical University of Denmark, autumn 2019.**\n",
    "\n",
    "#### Practical info\n",
    "- **The project is to be done in groups of at most 3 students**\n",
    "- **Each group has to hand in _one_ Jupyter notebook (this notebook) with their solution**\n",
    "- **The hand-in of the notebook is due 2019-10-13, 23:59 on DTU Inside**\n",
    "\n",
    "#### Your solution\n",
    "- **Your solution should be in Python**\n",
    "- **For each question you may use as many cells for your solution as you like**\n",
    "- **You should document your solution and explain the choices you've made (for example by using multiple cells and use Markdown to assist the reader of the notebook)**\n",
    "- **You should not remove the problem statements, and you should not modify the structure of the notebook**\n",
    "- **Your notebook should be runnable, i.e., clicking [>>] in Jupyter should generate the result that you want to be assessed**\n",
    "- **You are not expected to use machine learning to solve any of the exercises**\n",
    "- **You will be assessed according to correctness and readability of your code, choice of solution, choice of tools and libraries, and documentation of your solution**"
   ]
  },
  {
   "cell_type": "markdown",
   "metadata": {},
   "source": [
    "## Introduction\n",
    "Your team has been hired by the company X as data scientists. X makes gadgets for a wide range of industrial and commercial clients.\n",
    "\n",
    "As in-house data scientists, your teams first task, as per request from your new boss, is to optimize business operations. You have decided that a good first step would be to analyze the companys historical sales data to gain a better understanding of where profit is coming from. It may also reveal some low hanging fruit in terms of business opportunities.\n",
    "\n",
    "To get started, you have called the IT department to get access to the customer and sales transactions database. To your horror you've been told that such a database doens't exist, and the only record of sales transactions is kept by John from finance in an Excel spreadsheet. So you've emailed John asking for a CSV dump of the spreadsheet...\n",
    "\n",
    "In this project you need to clean the data you got from John, enrich it with further data, prepare a database for the data, and do some data analysis. The project is comprised of five parts. They are intended to be solved in the order they appear, but it is highly recommended that you read through all of them and devise an overall strategy before you start implementing anything."
   ]
  },
  {
   "cell_type": "markdown",
   "metadata": {},
   "source": [
    "## Part 1: Cleaning the data\n",
    "John has emailed you the following link to the CSV dump you requested.\n",
    "\n",
    "- [transactions.csv](https://raw.githubusercontent.com/patrickcording/02807-comp-tools/master/docker/work/data/transactions.csv)\n",
    "\n",
    "It seems as though he has been a bit sloppy when keeping the records. \n",
    "\n",
    "In this part you should:\n",
    "- Explain what the data is\n",
    "- Clean it to prepare it for inserting into a database and doing data analysis "
   ]
  },
  {
   "cell_type": "markdown",
   "metadata": {},
   "source": [
    "---\n",
    "### Solution"
   ]
  },
  {
   "cell_type": "markdown",
   "metadata": {},
   "source": [
    "# Exercise 1 - Intro\n",
    "In the following sections we go through each column/feature in the data and provide a feature description. Right after each description in a markdown cell we have the corresponding code cell with python to clean the data in the column described.\n",
    "The columns 'company', 'country' and 'city' are described and cleaned together.\n",
    "\n",
    "We thus iterate over all data multiple times, which is obviously slower than fixing everything in one iteration.\n",
    "\n",
    "We do this to provide an easy to read implementation. We do not consider the performance of a clean up script important, since it only has to be run once. If it had to be run many times and someone was waiting for the answer each time, we would have selected another approach.\n",
    "\n",
    "Before doing the feature description we import data:"
   ]
  },
  {
   "cell_type": "code",
   "execution_count": 1,
   "metadata": {},
   "outputs": [],
   "source": [
    "# Importing the necessary libraries.\n",
    "import pandas as pd\n",
    "import numpy as np\n",
    "import matplotlib.pyplot as plt\n",
    "\n",
    "df = pd.read_csv(\"transactions.csv\", encoding='utf-8-sig')"
   ]
  },
  {
   "cell_type": "markdown",
   "metadata": {},
   "source": [
    "### Part\n",
    "This seems to be a partnumber (string). To investigate the purity and nature of the data \n",
    "the part number was analysed using command line. The following command revealed best results:\n",
    "cut -d , -f 1 transactions.csv | sort | uniq -c\n",
    "It showed that majority of part numbers were used around 200 times\n",
    "10 records countained an empty part number\n",
    "the \"real part numbers\" had format: \n",
    "4 or 5 digits followed by '-' followed by 3 or 4 digits\n",
    "In total there are 100 different part numbers (excluding the empty part number)\n",
    "We cannot correct part number data to include correct part number, since we cannot infer part number from remaining columns. Therefore, no cleanup is made for the 'Part' feature"
   ]
  },
  {
   "cell_type": "markdown",
   "metadata": {},
   "source": [
    "### Company\n",
    "This seems to be a company name (string)\n",
    "To analyse the purity/nature following command was used:\n",
    "cut -d , -f 2 transactions.csv | sort | uniq -c\n",
    "36 different companies exist\n",
    "Most appearing company is 'Thoughtmix' which appears 2795 times (raw data)\n",
    "However 'Thoughtmix' also appears as 'Thoughtmixz' (this is assumed to be spelling error)\n",
    "Apart from spelling errors there seem to be 3 outliers:\n",
    "'-', 'a', 'aa' which all appear a single time\n",
    "\n",
    "### Country\n",
    "This seems to be the country, where the company is placed (string)\n",
    "To analyse the purity/nature following command was used:\n",
    "cut -d , -f 3 transactions.csv | sort | uniq -c\n",
    "15 different countries were listed\n",
    "The 'empty' country appeared 2171 times so it seems like John forgot to not the real company multiple times\n",
    "Some as for company names some country names are listed wrongly:\n",
    "e.g. 'US' is used once in stead of 'United States'\n",
    "e.g. 'Tyskland' is used once in stead of 'Germany'\n",
    "\n",
    "### City \n",
    "This seems to be the city, where the company is placed (string)\n",
    "To analyse the purity/nature following command was used:\n",
    "cut -d , -f 4 transactions.csv | sort | uniq -c\n",
    "This gives 32 different cities\n",
    "The whitespace sicty appear 33 times\n",
    "Seems like there are few/no spelling mistakes\n",
    "However, some values appear only once, so maybe the city was typed wrongly\n",
    "for some companied/contries\n",
    "\n",
    "### Fixing Issues\n",
    "To fix issues for column: 'company', 'country', 'city' (including many empty countries), following command is useful:\n",
    "cut -d , -f 2-4 transactions.csv | sort | uniq -c"
   ]
  },
  {
   "cell_type": "code",
   "execution_count": 2,
   "metadata": {},
   "outputs": [],
   "source": [
    "##iterate over all rows to set:\n",
    "    #Company names for companies registered with typos (very few of these)\n",
    "    #Country and and City for records where these are different from the majority\n",
    "\n",
    "#The majority has been found using the description above and all other records of that company are set to same country/city\n",
    "\n",
    "#Only exception to this is company 'Flipstorm' which has two cities registered as costumers\n",
    "    #For Flipstorm this was easy to fix as the two cities are in different countries\n",
    "    #And all records for Flipstorm lists a country. So the country was used to assign a city\n",
    "    \n",
    "for index, row in df.iterrows():\n",
    "    if (row['company'] == 'Avaveo' and row['country']!='France'):\n",
    "        row['country'] = 'France'\n",
    "    \n",
    "    elif (row['company'] == 'Brainsphere'):\n",
    "        if(row['country']!= 'Portugal'):\n",
    "            row['country'] = 'Portugal'\n",
    "        if(row['city']!='Braga'):\n",
    "            row['city'] = 'Braga'\n",
    "            \n",
    "    elif(row['company']== 'Bubblemix' and row['country'] !='Japan'):\n",
    "        row['country'] = 'Japan'\n",
    "        \n",
    "    elif(row['company']=='Buzzbean' and row['country'] != 'Germany'):\n",
    "        row['country'] = 'Germany'\n",
    "        \n",
    "    elif(row['company']=='Chatterbridge' and row['country']!= 'Spain'):\n",
    "        row['country']='Spain'\n",
    "        \n",
    "    elif(row['company']=='Eimbee' and row['country']!= 'France'):\n",
    "        row['country']='France'\n",
    "\n",
    "    elif(row['company']=='Flipstorm'):\n",
    "        if(row['city'] == 'Athens' and row['country'] != 'Greece'):\n",
    "            row['country']='Greece'\n",
    "        if(row['city'] == 'Nanterre' and row['country'] != 'France'):\n",
    "            row['country']='France'\n",
    "    \n",
    "    elif(row['company']=='Gabcube' and row['country']!= 'Portugal'):\n",
    "        row['country']='Portugal'    \n",
    "    \n",
    "    elif(row['company']=='Gabtune' and row['country']!= 'France'):\n",
    "        row['country']='France'\n",
    "\n",
    "    elif(row['company']=='Gevee' and row['country']!= 'France'):\n",
    "        row['country']='France'\n",
    "        \n",
    "    elif(row['company']=='Innojam' and row['country']!= 'Netherlands'):\n",
    "        row['country']='Netherlands'\n",
    "        \n",
    "    elif(row['company']=='Kanoodle'):\n",
    "        if(row['country']!= 'Netherlands'):\n",
    "            row['country']='Netherlands'\n",
    "        if(row['city']!='Niihama'):\n",
    "            row['city']='Niihama'\n",
    "     \n",
    "    elif(row['company'] == 'Laj0'):\n",
    "        row['company'] = 'Lajo'\n",
    "        \n",
    "    elif(row['company']=='Lajo' and row['country']!= 'Greece'):\n",
    "        row['country']='Greece'\n",
    "        \n",
    "    elif(row['company'] == 'Ntagz'):\n",
    "        row['company'] = 'Ntags'\n",
    "        \n",
    "    elif(row['company']=='Ntags'):\n",
    "        if(row['country']!= 'Portugal'):\n",
    "            row['country']='Portugal'\n",
    "        if(row['city']!='Lisbon'):\n",
    "            row['city']='Lisbon'\n",
    "            \n",
    "    elif(row['company']=='Realpoint' and row['country']!= 'Portugal'):\n",
    "        row['country']='Portugal'\n",
    "        \n",
    "    elif(row['company']=='Thycero' and row['country']!= 'France'):\n",
    "        row['country']='France'\n",
    "        \n",
    "    elif(row['company']=='Riffpath' and row['country']!= 'Greece'):\n",
    "        row['country']='Greece'\n",
    "        \n",
    "    elif(row['company']=='Roodel' and row['country']!= 'Portugal'):\n",
    "        row['country']='Portugal'\n",
    "        \n",
    "    elif(row['company']=='Shufflebeat'):\n",
    "        if(row['country']!= 'Portugal'):\n",
    "            row['country']='Portugal'\n",
    "        if(row['city']!='Porto'):\n",
    "            row['city']='Porto'\n",
    "            \n",
    "    elif(row['company']=='Tagtune' and row['country']!= 'Switzerland'):\n",
    "        row['country']='Switzerland'\n",
    "        \n",
    "    elif(row['company']=='Teklist'):\n",
    "        if(row['country']!= 'Netherlands'):\n",
    "            row['country']='Netherlands'\n",
    "        if(row['city']!='Arnhem'):\n",
    "            row['city']='Arnhem'\n",
    "            \n",
    "    elif(row['company'] == 'Thoughtmixz'):\n",
    "        row['company'] = 'Thoughtmix'\n",
    "        \n",
    "    elif(row['company']=='Thoughtmix'):\n",
    "        if(row['country']!= 'Portugal'):\n",
    "            row['country']='Portugal'\n",
    "        if(row['city']!='Amadora'):\n",
    "            row['city']='Amadora'\n",
    "            \n",
    "    elif(row['company']=='Twitterbeat'):\n",
    "        if(row['country']!= 'France'):\n",
    "            row['country']='France'\n",
    "        if(row['city']!='Annecy'):\n",
    "            row['city']='Annecy'\n",
    "            \n",
    "    elif(row['company']=='Voomm' and row['country']!= 'France'):\n",
    "        row['country']='France'\n",
    "        \n",
    "    elif(row['company']=='Wordify'):\n",
    "        if(row['country']!= 'United States'):\n",
    "            row['country']='United States'\n",
    "        if(row['city']!='New York'):\n",
    "            row['city']='New York'\n",
    "            \n",
    "    elif(row['company']=='Yozio'):\n",
    "        if(row['country']!= 'Greece'):\n",
    "            row['country']='Greece'\n",
    "        if(row['city']!='Patras'):\n",
    "            row['city']='Patras'\n",
    "            \n",
    "    elif(row['company']=='Zoonder'):\n",
    "        if(row['country']!= 'United States'):\n",
    "            row['country']= 'United States'\n",
    "        if(row['city']!='Boston'):\n",
    "            row['city']='Boston'\n",
    "            \n",
    "    elif(row['company'] == 'Zooxo.'):\n",
    "        row['company'] = 'Zooxo'        \n",
    "            \n",
    "    elif(row['company']=='Zooxo'):\n",
    "        if(row['country']!= 'United Kingdom'):\n",
    "            row['country']= 'United Kingdom'\n",
    "        if(row['city']!='London'):\n",
    "            row['city']='London'\n",
    "    \n",
    "    #We set company for typo'ed companies based on their location (NY and Boston)\n",
    "    #Since there is only one company we sell to in new york and one company in Boston\n",
    "    elif(row['company'] == ' -'):\n",
    "        row['company'] = 'Zoonder'\n",
    "        \n",
    "    elif(row['company'] == ' a'):\n",
    "        row['company'] = 'Wordify'\n",
    "        \n",
    "    elif(row['company'] == 'aa'):\n",
    "        row['company'] = 'Wordify'\n",
    "        \n",
    "##Following was used for testing\n",
    "#i=0            \n",
    "#for index, row in df.iterrows():\n",
    "#    if (row['company'] == 'Zoonder' and row['country']=='United States'):\n",
    "#        i+=1\n",
    "#print(i)"
   ]
  },
  {
   "cell_type": "markdown",
   "metadata": {},
   "source": [
    "### Price\n",
    "\n",
    "#negative values, e.g.  $-153.91\n",
    "#values with $ first, e.g. $1.0\n",
    "#empty value \n",
    "\n",
    "#cut -d , -f 5 transactions.csv | sort | uniq -c| head\n",
    "\n",
    "#inspecting what they can start with: \n",
    "#cut -d , -f 5 transactions.csv | cut -c 1-1 | sort | uniq -c \n",
    "#Normal values: $, 1-9, Pund, Yen?\n",
    "#Odd values: empty: 1, '-' (negative values): 61, 'n': 3, 'v': 2\n",
    "\n",
    "        \n",
    "#cut -d , -f 5 transactions.csv | grep n\n",
    "#shows three entries have value 'na'\n",
    "\n",
    "#cut -d , -f 5 transactions.csv | grep v\n",
    "#shows two entries have value 'void'\n",
    "\n",
    "#cut -d , -f 5 transactions.csv | grep - | head\n",
    "#e.g.: '-181.47€', '£-91.3'\n",
    "\n",
    "#using cmd: cut -d , -f 5 transactions.csv | grep € | cut -c 1-1 | sort | uniq\n",
    "#we can see that lines with € generally end with € and doesn't have other monetary value at start\n",
    "#Thus, since this is only monetary value which seems to be at the end, it seems fair to assume\n",
    "#That no line contains two different monetary declarations (e.g. $12.12€)\n",
    "\n",
    "#cut -d , -f 5 transactions.csv | grep € | grep -\n",
    "#shows one line has value '-'\n",
    "\n",
    "#=> empty value, '-' value, 'n' values, 'v' values.\n",
    "#=> negative values treated as positive values\n",
    "#=> positive values: extract monetary value from first or last char\n",
    "\n",
    "#in python script do something like\n",
    "#if starts with $ - dollar\n",
    "#else if starts with € - euro\n",
    "#else: Alert(has no monetary value) - to check if any lines have zero monetary declaration\n",
    "#also check for double monetary declaration? \n"
   ]
  },
  {
   "cell_type": "code",
   "execution_count": 3,
   "metadata": {},
   "outputs": [],
   "source": [
    "translation_table = dict.fromkeys(map(ord, '$€£¥'), None)\n",
    "\n",
    "for index, row in df.iterrows():\n",
    "    if (row['price'] == 'na' or row['price'] == '-' or row['price'] == 'void' or not isinstance(row['price'],str)):\n",
    "        row['price']=0\n",
    "    else: \n",
    "        row['price'] = row['price'].translate(translation_table)\n",
    "        #if(row['price'].startswith('-')):\n",
    "         #   print(row['price'])\n",
    "        pricestring = row['price'].split('.')\n",
    "        priceint = int(pricestring[0]) * 100\n",
    "        if (pricestring[0].startswith('-')):\n",
    "            priceint -= int(pricestring[1])\n",
    "        else:\n",
    "            priceint += int(pricestring[1])\n",
    "        row['price'] = priceint\n",
    "        #if(row['price']<0):\n",
    "         #   print(row['price'])"
   ]
  },
  {
   "cell_type": "markdown",
   "metadata": {},
   "source": [
    "### Date\n",
    "This seems to be the date for the transaction, consisting of a date and a specific time\n",
    "\n",
    "cut -d , -f 6 transactions.csv | cut -d ' ' -f 1 | sort | uniq -c | head\n",
    "7 10/04/2017\n",
    "19 2016-01-02\n",
    "same query with tail only reveals regular date formatted values:\n",
    "14 2018-12-31\n",
    "1 2019-02-21\n",
    "1 2019-05-14\n",
    "1 date\n",
    "\n",
    "Inspect time parameter: \n",
    "cut -d , -f 6 transactions.csv | cut -d ' ' -f 2 | sort | uniq -c | head\n",
    "9 \n",
    "2 00:00:05\n",
    "2 00:00:06\n",
    "Same query with tail shows regular formatting (no value larger than 23:59:59)\n",
    "\n",
    "Any with dates in middle?\n",
    "\n",
    "using query: \n",
    "cut -d , -f 6 transactions.csv | cut -d ' ' -f 1 | cut -d '-' -f 2 | sort | uniq -c \n",
    "It can be seen that all rows (but ones with wrong format) have a value in second date format, which is 12 or below. Thus the second column defined the month and the date format is thus: 'yyyy:mm:dd'\n",
    "\n",
    "\n"
   ]
  },
  {
   "cell_type": "code",
   "execution_count": 4,
   "metadata": {},
   "outputs": [],
   "source": [
    "j = 0\n",
    "for index, row in df.iterrows():\n",
    "    #one date has wrong format (year in end)\n",
    "    #we assume this date has format (dd:mm:yyyy) and translates it to regular format (yyyy:mm:dd)\n",
    "    if (row['date'].startswith('10/04/2017')):\n",
    "        row['date']='2017/04/10'"
   ]
  },
  {
   "cell_type": "code",
   "execution_count": 5,
   "metadata": {},
   "outputs": [
    {
     "data": {
      "text/plain": [
       "part       object\n",
       "company    object\n",
       "country    object\n",
       "city       object\n",
       "price      object\n",
       "date       object\n",
       "dtype: object"
      ]
     },
     "execution_count": 5,
     "metadata": {},
     "output_type": "execute_result"
    }
   ],
   "source": [
    "df.astype({'company':'str'})\n",
    "df.dtypes"
   ]
  },
  {
   "cell_type": "markdown",
   "metadata": {},
   "source": [
    "---\n",
    "## Part 2: Enriching the data"
   ]
  },
  {
   "cell_type": "markdown",
   "metadata": {},
   "source": [
    "A common task for a data scientists is to combine or enrich data from internal sources with data available from external sources. The purpose of this can be either to fix issues with the data or to make it easier to derive insights from the data.\n",
    "\n",
    "In this part you should enrich your data with data from at least one external source. You may look to part 4 for some  inspiration as to what is required. Your solution should be automated, i.e., you can not ask the reader of your notebook to download any data manually. You should argue why and what you expect to achieve by the enrichments you are doing."
   ]
  },
  {
   "cell_type": "markdown",
   "metadata": {},
   "source": [
    "---\n",
    "### Solution"
   ]
  },
  {
   "cell_type": "markdown",
   "metadata": {},
   "source": [
    "## Decribe required enrichment\n",
    "In section 4 we have to compare the profit between companies. To do so, we should calculate all prices to use same currency, such that price of every transaction can be compared with the price of any other transaction.\n"
   ]
  },
  {
   "cell_type": "code",
   "execution_count": null,
   "metadata": {},
   "outputs": [],
   "source": []
  },
  {
   "cell_type": "markdown",
   "metadata": {},
   "source": [
    "---\n",
    "## Part 3: Creating a database\n",
    "Storing data in a relational database has the advantages that it is persistent, fast to query, and it will be easier access for other employees at Weyland-Yutani.\n",
    "\n",
    "In this part you should:\n",
    "- Create a database and table(s) for the data\n",
    "- Insert data into the tables\n",
    "\n",
    "You may use SQLite locally to do this. You should argue why you choose to store your data the way you do. "
   ]
  },
  {
   "cell_type": "markdown",
   "metadata": {},
   "source": [
    "---\n",
    "### Solution"
   ]
  },
  {
   "cell_type": "code",
   "execution_count": 6,
   "metadata": {},
   "outputs": [],
   "source": [
    "import sqlite3\n",
    "\n",
    "#Connect to the database and create tables\n",
    "conn = sqlite3.connect('weylandYutani.sqlite')\n",
    "c = conn.cursor()\n",
    "\n",
    "c.execute('CREATE TABLE IF NOT EXISTS transactions(transaction_id INTEGER PRIMARY KEY AUTOINCREMENT, part INTEGER, price INTEGER, date_time TEXT, company_name TEXT, company_country TEXT, company_city TEXT)')\n",
    "conn.commit()\n",
    "\n",
    "\n",
    "## Import data into the table\n",
    "\n",
    "for index, row in df.iterrows():\n",
    "    part = row['part']\n",
    "    companyName = row['company']\n",
    "    companyCountry = row['country']\n",
    "    companyCity = row['city']\n",
    "    price = row['price']\n",
    "    date_time = row['date']\n",
    "    c.execute(\"INSERT INTO transactions(part, price, date_time,company_name, company_country, company_city) VALUES (?, ?, ?, ?, ?, ?)\", (part,price,date_time,companyName,companyCountry,companyCity))\n",
    "    conn.commit()\n"
   ]
  },
  {
   "cell_type": "markdown",
   "metadata": {},
   "source": [
    "---\n",
    "## Part 4: Analyzing the data\n",
    "You are now ready to analyze the data. Your goal is to gain some actionable business insights to present to your boss. \n",
    "\n",
    "In this part, you should ask some questions and try to answer them based on the data. You should write SQL queries to retrieve the data. For each question, you should state why it is relevant and what you expect to find.\n",
    "\n",
    "To get you started, you should prepare answers to the following questions. You should add more questions.\n",
    "#### Who are the most profitable clients?\n",
    "Knowing which clients that generate the most revenue for the company will assist your boss in distributing customer service ressources.\n",
    "\n",
    "#### Are there any clients for which profit is declining?\n",
    "Declining profit from a specific client may indicate that the client is disatisfied with the product. Gaining a new client is often much more work than retaining one. Early warnings about declining profit may help your boss fighting customer churn.\n",
    "\n",
    "\n",
    "Remember, you are taking this to your new boss, so think about how you present the data."
   ]
  },
  {
   "cell_type": "markdown",
   "metadata": {},
   "source": [
    "---\n",
    "### Solution"
   ]
  },
  {
   "cell_type": "code",
   "execution_count": 11,
   "metadata": {},
   "outputs": [
    {
     "data": {
      "text/plain": [
       "<matplotlib.axes._subplots.AxesSubplot at 0x7feac7336f98>"
      ]
     },
     "execution_count": 11,
     "metadata": {},
     "output_type": "execute_result"
    },
    {
     "data": {
      "image/png": "[encoded data removed]",
      "text/plain": [
       "<Figure size 432x288 with 1 Axes>"
      ]
     },
     "metadata": {
      "needs_background": "light"
     },
     "output_type": "display_data"
    }
   ],
   "source": [
    "##The following plot shows each company and the profit that our company earned over time. \n",
    "df = pd.read_sql_query('SELECT price, date_time, company_name FROM transactions', conn)\n",
    "    #for index, row in df.iterrows():\n",
    "    #    row['price'] = row['price']*100)\n",
    "    #df.astype({'price':'float'})\n",
    "    #df.head(100)\n",
    "df.plot()"
   ]
  },
  {
   "cell_type": "markdown",
   "metadata": {},
   "source": [
    "---\n",
    "## Part 5: Performance\n",
    "Your boss is very impressed with what you have achieved in less than two weeks, and he would like to take your idea of storing the customer and sales data in a relational database to production. However, John is concerned that the solution will not scale. His experience is telling him that you will see many occurrences of the following queries.\n",
    "\n",
    "- Show all sales to company X between time $t_1$ and time $t_2$\n",
    "- Show the latest X sales in the database\n",
    "- Show total sales per company per day\n",
    "\n",
    "Show that Johns concern is not justified."
   ]
  },
  {
   "cell_type": "markdown",
   "metadata": {},
   "source": [
    "---\n",
    "### Solution"
   ]
  },
  {
   "cell_type": "markdown",
   "metadata": {},
   "source": [
    "It is true that with increasing number of records in the database the query time will increase. However we can index the database using the index commands. We could forexample to support the queries described above, index on companies and date time. Thus the queries would be significantly faster, even with large databases. \n",
    "\n",
    "The indexes can be made on any column that the boss would want. This would speed up the queries on that given data column.\n",
    "\n",
    "Even maintaining the database would not be slower either. If the database indexing is implemented using beta-epsilon trees, we get insertions in $O(\\frac{log_B N}{\\epsilon B^{\\epsilon}})$, where B is the block size and N is the size of the data, and $\\epsilon$ is the relation between the degree of a node and the buffersize of the buffers that contain the updates. Where as if we would just use B-trees it would be $O(log_B N)$. Thus we get significantly better update times. The result is that we can actually maintain a database, while still being able to keep multiple index over the database. (See [An Introduction to Bε-trees and Write-Optimization](https://www.usenix.org/publications/login/oct15/bender)) "
   ]
  },
  {
   "cell_type": "markdown",
   "metadata": {},
   "source": [
    "---"
   ]
  }
 ],
 "metadata": {
  "kernelspec": {
   "display_name": "Python 3",
   "language": "python",
   "name": "python3"
  },
  "language_info": {
   "codemirror_mode": {
    "name": "ipython",
    "version": 3
   },
   "file_extension": ".py",
   "mimetype": "text/x-python",
   "name": "python",
   "nbconvert_exporter": "python",
   "pygments_lexer": "ipython3",
   "version": "3.7.3"
  }
 },
 "nbformat": 4,
 "nbformat_minor": 2
}
