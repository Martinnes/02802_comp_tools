{
 "cells": [
  {
   "cell_type": "markdown",
   "metadata": {},
   "source": [
    "# Project 3: Airbnb\n",
    "**This is the third of three mandatory projects to be handed in as part of the assessment for the course 02807 Computational Tools for Data Science at Technical University of Denmark, autumn 2019.**\n",
    "\n",
    "#### Practical info\n",
    "- **The project is to be done in groups of at most 3 students**\n",
    "- **Each group has to hand in _one_ Jupyter notebook (this notebook) with their solution**\n",
    "- **The hand-in of the notebook is due 2019-12-05, 23:59 on DTU Inside**\n",
    "\n",
    "#### Your solution\n",
    "- **Your solution should be in Python/PySpark**\n",
    "- **For each question you may use as many cells for your solution as you like**\n",
    "- **You should not remove the problem statements**\n",
    "- **Your notebook should be runnable, i.e., clicking [>>] in Jupyter should generate the result that you want to be assessed**\n",
    "- **You are not expected to use machine learning to solve any of the exercises**"
   ]
  },
  {
   "cell_type": "markdown",
   "metadata": {},
   "source": [
    "# Introduction\n",
    "[Airbnb](http://airbnb.com) is an online marketplace for arranging or offering lodgings. In this project you will use Spark to analyze data obtained from the Airbnb website. The purpose of the analysis is to extract information about trends and patterns from the data.\n",
    "\n",
    "The project has two parts.\n",
    "\n",
    "### Part 1: Loading, describing and preparing the data\n",
    "There's quite a lot of data. Make sure that you can load and correctly parse the data, and that you understand what the dataset contains. You should also prepare the data for the analysis in part two. This means cleaning it and staging it so that subsequent queries are fast.\n",
    "\n",
    "### Par 2: Analysis\n",
    "In this part your goal is to learn about trends and usage patterns from the data. You should give solutions to the tasks defined in this notebook, and you should use Spark to do the data processing. You may use other libraries like for instance Pandas and matplotlib for visualisation.\n",
    "\n",
    "## Guidelines\n",
    "- Processing data should be done using Spark. Once data has been reduced to aggregate form, you may use collect to extract it into Python for visualisation.\n",
    "- Your solutions will be evaluated by correctness, code quality and interpretability of the output. This means that you have to write clean and efficient Spark code that will generate sensible execution plans, and that the tables and visualisations that you produce are meaningful and easy to read.\n",
    "- You may add more cells for your solutions, but you should not modify the notebook otherwise."
   ]
  },
  {
   "cell_type": "markdown",
   "metadata": {},
   "source": [
    "### Create Spark session and define imports"
   ]
  },
  {
   "cell_type": "code",
   "execution_count": 1,
   "metadata": {},
   "outputs": [],
   "source": [
    "from pyspark.sql import *\n",
    "from pyspark.sql import functions as f\n",
    "from pyspark.sql.types import *\n",
    "from decimal import *\n",
    "import matplotlib.pyplot as plt\n",
    "\n",
    "spark = SparkSession.builder.appName(\"Project3\").getOrCreate()"
   ]
  },
  {
   "cell_type": "markdown",
   "metadata": {},
   "source": [
    "# Part 1: Loading, describing and preparing the data\n",
    "The data comes in two files. Start by downloading the files and putting them in your `data/` folder.\n",
    "\n",
    "- [Listings](https://files.dtu.dk/u/siPzAasj8w2gI_ME/listings.csv?l) (5 GB)\n",
    "- [Reviews](https://files.dtu.dk/u/k3oaPYp6GjKBeho4/reviews.csv?l) (9.5 GB)"
   ]
  },
  {
   "cell_type": "markdown",
   "metadata": {},
   "source": [
    "### Load the data\n",
    "The data has multiline rows (rows that span multiple lines in the file). To correctly parse these you should use the `multiline` option and set the `escape` character to be `\"`."
   ]
  },
  {
   "cell_type": "code",
   "execution_count": 2,
   "metadata": {},
   "outputs": [],
   "source": [
    "# We start by loading the data with options: \n",
    "#   header, inferscheme, escape char =\" and multiline. \n",
    "#   We load the listings as df and the reviews as dfReviews. \n",
    "temp_df = spark.read.option('header',True).option('inferSchema',True).option('escape','\"').option('multiLine', 'True').csv('listings.csv')\n",
    "temp_dfReviews = spark.read.option('header',True).option('inferSchema',True).option('escape','\"').option('multiLine', 'True').csv('reviews.csv')"
   ]
  },
  {
   "cell_type": "markdown",
   "metadata": {},
   "source": [
    "### Describe the data\n",
    "List the features (schema) and sizes of the datasets."
   ]
  },
  {
   "cell_type": "code",
   "execution_count": 3,
   "metadata": {},
   "outputs": [
    {
     "name": "stdout",
     "output_type": "stream",
     "text": [
      "root\n",
      " |-- id: string (nullable = true)\n",
      " |-- listing_url: string (nullable = true)\n",
      " |-- scrape_id: string (nullable = true)\n",
      " |-- last_scraped: string (nullable = true)\n",
      " |-- name: string (nullable = true)\n",
      " |-- summary: string (nullable = true)\n",
      " |-- space: string (nullable = true)\n",
      " |-- description: string (nullable = true)\n",
      " |-- experiences_offered: string (nullable = true)\n",
      " |-- neighborhood_overview: string (nullable = true)\n",
      " |-- notes: string (nullable = true)\n",
      " |-- transit: string (nullable = true)\n",
      " |-- access: string (nullable = true)\n",
      " |-- interaction: string (nullable = true)\n",
      " |-- house_rules: string (nullable = true)\n",
      " |-- thumbnail_url: string (nullable = true)\n",
      " |-- medium_url: string (nullable = true)\n",
      " |-- picture_url: string (nullable = true)\n",
      " |-- xl_picture_url: string (nullable = true)\n",
      " |-- host_id: string (nullable = true)\n",
      " |-- host_url: string (nullable = true)\n",
      " |-- host_name: string (nullable = true)\n",
      " |-- host_since: string (nullable = true)\n",
      " |-- host_location: string (nullable = true)\n",
      " |-- host_about: string (nullable = true)\n",
      " |-- host_response_time: string (nullable = true)\n",
      " |-- host_response_rate: string (nullable = true)\n",
      " |-- host_acceptance_rate: string (nullable = true)\n",
      " |-- host_is_superhost: string (nullable = true)\n",
      " |-- host_thumbnail_url: string (nullable = true)\n",
      " |-- host_picture_url: string (nullable = true)\n",
      " |-- host_neighbourhood: string (nullable = true)\n",
      " |-- host_listings_count: string (nullable = true)\n",
      " |-- host_total_listings_count: string (nullable = true)\n",
      " |-- host_verifications: string (nullable = true)\n",
      " |-- host_has_profile_pic: string (nullable = true)\n",
      " |-- host_identity_verified: string (nullable = true)\n",
      " |-- street: string (nullable = true)\n",
      " |-- neighbourhood: string (nullable = true)\n",
      " |-- neighbourhood_cleansed: string (nullable = true)\n",
      " |-- neighbourhood_group_cleansed: string (nullable = true)\n",
      " |-- city: string (nullable = true)\n",
      " |-- state: string (nullable = true)\n",
      " |-- zipcode: string (nullable = true)\n",
      " |-- market: string (nullable = true)\n",
      " |-- smart_location: string (nullable = true)\n",
      " |-- country_code: string (nullable = true)\n",
      " |-- country: string (nullable = true)\n",
      " |-- latitude: string (nullable = true)\n",
      " |-- longitude: string (nullable = true)\n",
      " |-- is_location_exact: string (nullable = true)\n",
      " |-- property_type: string (nullable = true)\n",
      " |-- room_type: string (nullable = true)\n",
      " |-- accommodates: string (nullable = true)\n",
      " |-- bathrooms: string (nullable = true)\n",
      " |-- bedrooms: string (nullable = true)\n",
      " |-- beds: string (nullable = true)\n",
      " |-- bed_type: string (nullable = true)\n",
      " |-- amenities: string (nullable = true)\n",
      " |-- square_feet: string (nullable = true)\n",
      " |-- price: string (nullable = true)\n",
      " |-- weekly_price: string (nullable = true)\n",
      " |-- monthly_price: string (nullable = true)\n",
      " |-- security_deposit: string (nullable = true)\n",
      " |-- cleaning_fee: string (nullable = true)\n",
      " |-- guests_included: string (nullable = true)\n",
      " |-- extra_people: string (nullable = true)\n",
      " |-- minimum_nights: string (nullable = true)\n",
      " |-- maximum_nights: string (nullable = true)\n",
      " |-- minimum_minimum_nights: string (nullable = true)\n",
      " |-- maximum_minimum_nights: string (nullable = true)\n",
      " |-- minimum_maximum_nights: string (nullable = true)\n",
      " |-- maximum_maximum_nights: string (nullable = true)\n",
      " |-- minimum_nights_avg_ntm: string (nullable = true)\n",
      " |-- maximum_nights_avg_ntm: string (nullable = true)\n",
      " |-- calendar_updated: string (nullable = true)\n",
      " |-- has_availability: string (nullable = true)\n",
      " |-- availability_30: string (nullable = true)\n",
      " |-- availability_60: string (nullable = true)\n",
      " |-- availability_90: string (nullable = true)\n",
      " |-- availability_365: string (nullable = true)\n",
      " |-- calendar_last_scraped: string (nullable = true)\n",
      " |-- number_of_reviews: string (nullable = true)\n",
      " |-- number_of_reviews_ltm: string (nullable = true)\n",
      " |-- first_review: string (nullable = true)\n",
      " |-- last_review: string (nullable = true)\n",
      " |-- review_scores_rating: string (nullable = true)\n",
      " |-- review_scores_accuracy: string (nullable = true)\n",
      " |-- review_scores_cleanliness: string (nullable = true)\n",
      " |-- review_scores_checkin: string (nullable = true)\n",
      " |-- review_scores_communication: string (nullable = true)\n",
      " |-- review_scores_location: string (nullable = true)\n",
      " |-- review_scores_value: string (nullable = true)\n",
      " |-- requires_license: string (nullable = true)\n",
      " |-- license: string (nullable = true)\n",
      " |-- jurisdiction_names: string (nullable = true)\n",
      " |-- instant_bookable: string (nullable = true)\n",
      " |-- is_business_travel_ready: string (nullable = true)\n",
      " |-- cancellation_policy: string (nullable = true)\n",
      " |-- require_guest_profile_picture: string (nullable = true)\n",
      " |-- require_guest_phone_verification: string (nullable = true)\n",
      " |-- calculated_host_listings_count: string (nullable = true)\n",
      " |-- calculated_host_listings_count_entire_homes: string (nullable = true)\n",
      " |-- calculated_host_listings_count_private_rooms: string (nullable = true)\n",
      " |-- calculated_host_listings_count_shared_rooms: string (nullable = true)\n",
      " |-- reviews_per_month: string (nullable = true)\n",
      "\n"
     ]
    }
   ],
   "source": [
    "temp_df.printSchema()"
   ]
  },
  {
   "cell_type": "code",
   "execution_count": 4,
   "metadata": {},
   "outputs": [
    {
     "name": "stdout",
     "output_type": "stream",
     "text": [
      "root\n",
      " |-- listing_id: string (nullable = true)\n",
      " |-- id: string (nullable = true)\n",
      " |-- date: string (nullable = true)\n",
      " |-- reviewer_id: string (nullable = true)\n",
      " |-- reviewer_name: string (nullable = true)\n",
      " |-- comments: string (nullable = true)\n",
      "\n"
     ]
    }
   ],
   "source": [
    "temp_dfReviews.printSchema()"
   ]
  },
  {
   "cell_type": "code",
   "execution_count": 5,
   "metadata": {},
   "outputs": [
    {
     "data": {
      "text/plain": [
       "1330480"
      ]
     },
     "execution_count": 5,
     "metadata": {},
     "output_type": "execute_result"
    }
   ],
   "source": [
    "# We print the number of rows\n",
    "temp_df.count()"
   ]
  },
  {
   "cell_type": "code",
   "execution_count": 6,
   "metadata": {},
   "outputs": [
    {
     "data": {
      "text/plain": [
       "23914277"
      ]
     },
     "execution_count": 6,
     "metadata": {},
     "output_type": "execute_result"
    }
   ],
   "source": [
    "temp_dfReviews.count()"
   ]
  },
  {
   "cell_type": "markdown",
   "metadata": {},
   "source": [
    "### Prepare the data for analysis\n",
    "You should prepare two dataframes to be used in the analysis part of the project. You should not be concerned with cleaning the data. There's a lot of it, so it will be sufficient to drop rows that have bad values. You may want to go back and refine this step at a later point when doing the analysis.\n",
    "\n",
    "You may also want to consider if you can stage your data so that subsequent processing is more efficient (this is not strictly necessary for Spark to run, but you may be able to decrease the time you sit around waiting for Spark to finish things)"
   ]
  },
  {
   "cell_type": "code",
   "execution_count": 7,
   "metadata": {},
   "outputs": [],
   "source": [
    "# We only select the columns that we need \n",
    "df = temp_df.select(f.col('id'),f.col('neighbourhood'),f.col('price'),f.col('city'),f.col('review_scores_rating'))\n",
    "dfReviews = temp_dfReviews.select(f.col('date'),f.col('listing_id'),f.col('comments'))"
   ]
  },
  {
   "cell_type": "code",
   "execution_count": 8,
   "metadata": {},
   "outputs": [],
   "source": [
    "# We filter out the data where there is no city and no price, as those will be invalid in our analysis. \n",
    "df = df.filter(f.col('city').isNotNull() & f.col('price').isNotNull())"
   ]
  },
  {
   "cell_type": "code",
   "execution_count": 9,
   "metadata": {},
   "outputs": [],
   "source": [
    "## Define function to convert price to integer data type \n",
    "# From looking at the data we notice that the price is in $. Therefore we only remove the dollar sign. \n",
    "# We could have cleaned it for any other currency aswell, but then we would also have to convert it according to\n",
    "#  the current exchange rate. \n",
    "def get_price_as_int(price):\n",
    "    # If it is not in dollars, print error statement\n",
    "    if(\"$\" not in price):\n",
    "        print(\"Error, \", price, \" is not in dollars\")\n",
    "    #Remove dollar sign\n",
    "    priceWihtoutSign = price.replace('$','')\n",
    "    #remove \",\"\n",
    "    priceWihtOutComma = priceWihtoutSign.replace(',','')\n",
    "    #split on dollars and cents\n",
    "    pricestring = priceWihtOutComma.split('.')\n",
    "    price = Decimal(pricestring[0])\n",
    "    if(len(pricestring)==2):\n",
    "        price += Decimal(pricestring[1]) / 100\n",
    "    # We return the price as an interger for simplocity. As most of the prices are quite high, we assume\n",
    "    #  that removing the cents will not make a huge difference. \n",
    "    return int(price)\n",
    "\n",
    "\n",
    "get_price_as_int_udf = f.udf(get_price_as_int)\n"
   ]
  },
  {
   "cell_type": "code",
   "execution_count": 10,
   "metadata": {},
   "outputs": [],
   "source": [
    "# We add a column to the table with the price as integers and thus we make sure that the scheme is also stored \n",
    "#. as integers.\n",
    "df = df.withColumn('priceAsInt', get_price_as_int_udf(f.col('price')))\n",
    "df = df.withColumn('priceAsInt', f.col('priceAsInt').cast(IntegerType()))"
   ]
  },
  {
   "cell_type": "code",
   "execution_count": 11,
   "metadata": {},
   "outputs": [
    {
     "name": "stdout",
     "output_type": "stream",
     "text": [
      "root\n",
      " |-- id: string (nullable = true)\n",
      " |-- neighbourhood: string (nullable = true)\n",
      " |-- price: string (nullable = true)\n",
      " |-- city: string (nullable = true)\n",
      " |-- review_scores_rating: string (nullable = true)\n",
      " |-- priceAsInt: integer (nullable = true)\n",
      "\n"
     ]
    }
   ],
   "source": [
    "df.printSchema()"
   ]
  },
  {
   "cell_type": "markdown",
   "metadata": {},
   "source": [
    "# Part 2: Analysis\n",
    "Use Spark and your favorite tool for data visualization to solve the following tasks.\n",
    "\n",
    "## The basics\n",
    "Compute and show a dataframe with the number of listings and neighbourhoods per city."
   ]
  },
  {
   "cell_type": "code",
   "execution_count": 12,
   "metadata": {},
   "outputs": [
    {
     "name": "stdout",
     "output_type": "stream",
     "text": [
      "+--------------------+------------------+-----------------------------+\n",
      "|                city|count(DISTINCT id)|count(DISTINCT neighbourhood)|\n",
      "+--------------------+------------------+-----------------------------+\n",
      "|Saint-Médard-en-J...|               167|                            0|\n",
      "|Paris-15E-Arrondi...|               100|                            5|\n",
      "|             Antwerp|               205|                            0|\n",
      "|            Cadaqués|               463|                            0|\n",
      "|               Lorne|               315|                            0|\n",
      "|             Palermo|              9435|                           10|\n",
      "|             Edogawa|                19|                            1|\n",
      "|         Agia Galini|                66|                            0|\n",
      "|        Thessaloniki|              2275|                            0|\n",
      "|             Lismore|                18|                            0|\n",
      "|              Tuglie|               106|                            0|\n",
      "|            Borgagne|                58|                            0|\n",
      "|              Sutera|                 1|                            0|\n",
      "|             Gallina|                50|                            0|\n",
      "|             Pennisi|                17|                            0|\n",
      "|             Kilauea|                47|                            1|\n",
      "|         Palau-Sator|                 5|                            0|\n",
      "|              Galice|                 5|                            0|\n",
      "|              Sopela|                48|                            0|\n",
      "|        Atenor Salas|                12|                            1|\n",
      "+--------------------+------------------+-----------------------------+\n",
      "only showing top 20 rows\n",
      "\n"
     ]
    }
   ],
   "source": [
    "# We group by city and then count the disctinct number of id's as each listing has a unique ID. \n",
    "# We furthermore add a count distinct on the neighbourhood column, \n",
    "#.  assuming that there is no errors in the neighbourhood column. \n",
    "df.groupBy('city').agg(f.countDistinct('id'),f.countDistinct('neighbourhood')).show()"
   ]
  },
  {
   "cell_type": "markdown",
   "metadata": {},
   "source": [
    "## Prices\n",
    "Compute the minimum, maximum and average listing price in your city. "
   ]
  },
  {
   "cell_type": "code",
   "execution_count": 13,
   "metadata": {},
   "outputs": [
    {
     "name": "stdout",
     "output_type": "stream",
     "text": [
      "+---------------+---------------+-----------------+\n",
      "|min(priceAsInt)|max(priceAsInt)|  avg(priceAsInt)|\n",
      "+---------------+---------------+-----------------+\n",
      "|             69|          22463|1103.936496859735|\n",
      "+---------------+---------------+-----------------+\n",
      "\n"
     ]
    }
   ],
   "source": [
    "# We pick Stockholm as our city and filter the city column to only show the cases where it is equal to stockholm. \n",
    "stockholm_df =df.filter(f.col('city')=='Stockholm')\n",
    "# We then use aggregate to find the max, min and avg price on the priceAsInt column. \n",
    "stockholm_df.agg(f.min('priceAsInt'),f.max('priceAsInt'),f.avg('priceAsInt')).show()\n",
    "\n",
    "#The result can bee seen below. "
   ]
  },
  {
   "cell_type": "markdown",
   "metadata": {},
   "source": [
    "Compute and visualize the distribution of listing prices in your city."
   ]
  },
  {
   "cell_type": "code",
   "execution_count": 14,
   "metadata": {},
   "outputs": [
    {
     "data": {
      "text/plain": [
       "array([[<matplotlib.axes._subplots.AxesSubplot object at 0x7f40eeedcf60>]],\n",
       "      dtype=object)"
      ]
     },
     "execution_count": 14,
     "metadata": {},
     "output_type": "execute_result"
    },
    {
     "data": {
      "image/png": "[encoded data removed]",
      "text/plain": [
       "<Figure size 432x288 with 1 Axes>"
      ]
     },
     "metadata": {
      "needs_background": "light"
     },
     "output_type": "display_data"
    }
   ],
   "source": [
    "# We use the filter \n",
    "#plotdf = df.filter(f.col('city')=='Stockholm')\n",
    "\n",
    "#We use the stockholm data frame to select all and convert it into a pandas dataframe for plotting purposes. \n",
    "pandasdf = stockholm_df.select(\"*\").toPandas()\n",
    "\n",
    "#We use the boxplot over the column \"priceAsInt\" to show the distribution of listing prices in Stockholm\n",
    "pandasdf.hist(column=[\"priceAsInt\"])"
   ]
  },
  {
   "cell_type": "markdown",
   "metadata": {},
   "source": [
    "The value of a listing is its rating divided by its price.\n",
    "\n",
    "Compute and show a dataframe with the 3 highest valued listings in each neighbourhood."
   ]
  },
  {
   "cell_type": "code",
   "execution_count": 15,
   "metadata": {},
   "outputs": [
    {
     "name": "stdout",
     "output_type": "stream",
     "text": [
      "+---------+---------------------+--------+----------------------+--------------------+----------+\n",
      "|city     |neighbourhood        |id      |NeighbourhoodValueRank|review_scores_rating|priceAsInt|\n",
      "+---------+---------------------+--------+----------------------+--------------------+----------+\n",
      "|Stockholm|null                 |23573868|1                     |100                 |69        |\n",
      "|Stockholm|null                 |19950599|2                     |98                  |94        |\n",
      "|Stockholm|Bromma               |24191331|1                     |93                  |117       |\n",
      "|Stockholm|Bromma               |15260947|2                     |100                 |225       |\n",
      "|Stockholm|Bromma               |13098304|3                     |99                  |264       |\n",
      "|Stockholm|Enskede-Årsta-Vantör |31549534|1                     |100                 |147       |\n",
      "|Stockholm|Enskede-Årsta-Vantör |29206032|2                     |100                 |196       |\n",
      "|Stockholm|Enskede-Årsta-Vantör |21755617|3                     |94                  |196       |\n",
      "|Stockholm|Farsta               |27413485|1                     |98                  |205       |\n",
      "|Stockholm|Farsta               |23086418|2                     |97                  |254       |\n",
      "|Stockholm|Farsta               |26483662|3                     |91                  |254       |\n",
      "|Stockholm|Hägersten-Liljeholmen|17827003|1                     |96                  |225       |\n",
      "|Stockholm|Hägersten-Liljeholmen|18527953|2                     |97                  |264       |\n",
      "|Stockholm|Hägersten-Liljeholmen|23220680|3                     |92                  |254       |\n",
      "|Stockholm|Hässelby-Vällingby   |18598029|1                     |99                  |147       |\n",
      "|Stockholm|Hässelby-Vällingby   |13535151|2                     |93                  |157       |\n",
      "|Stockholm|Hässelby-Vällingby   |3000008 |3                     |91                  |186       |\n",
      "|Stockholm|Kungsholmen          |15460483|1                     |78                  |147       |\n",
      "|Stockholm|Kungsholmen          |15459243|2                     |77                  |176       |\n",
      "|Stockholm|Kungsholmen          |15460217|3                     |79                  |196       |\n",
      "|Stockholm|Kungsholmen          |15460497|3                     |79                  |196       |\n",
      "|Stockholm|Norrmalm             |16080878|1                     |89                  |147       |\n",
      "|Stockholm|Norrmalm             |20931659|2                     |93                  |205       |\n",
      "|Stockholm|Norrmalm             |9506344 |3                     |100                 |421       |\n",
      "|Stockholm|Rinkeby-Kista        |35368583|1                     |100                 |196       |\n",
      "|Stockholm|Rinkeby-Kista        |448259  |2                     |84                  |166       |\n",
      "|Stockholm|Rinkeby-Kista        |17941764|3                     |98                  |196       |\n",
      "|Stockholm|Skarpnäck            |4125674 |1                     |97                  |264       |\n",
      "|Stockholm|Skarpnäck            |12307390|2                     |93                  |254       |\n",
      "|Stockholm|Skarpnäck            |3392956 |3                     |97                  |284       |\n",
      "|Stockholm|Skärholmen           |12829821|1                     |80                  |254       |\n",
      "|Stockholm|Skärholmen           |19776958|2                     |94                  |303       |\n",
      "|Stockholm|Skärholmen           |11542381|3                     |83                  |274       |\n",
      "|Stockholm|Spånga-Tensta        |15645785|1                     |100                 |196       |\n",
      "|Stockholm|Spånga-Tensta        |16351239|2                     |93                  |196       |\n",
      "|Stockholm|Spånga-Tensta        |15594059|3                     |89                  |196       |\n",
      "|Stockholm|Södermalm            |23479698|1                     |100                 |303       |\n",
      "|Stockholm|Södermalm            |8425805 |2                     |98                  |303       |\n",
      "|Stockholm|Södermalm            |29927521|3                     |95                  |294       |\n",
      "|Stockholm|Älvsjö               |29749239|1                     |100                 |352       |\n",
      "|Stockholm|Älvsjö               |15447683|2                     |93                  |352       |\n",
      "|Stockholm|Älvsjö               |1660460 |3                     |96                  |372       |\n",
      "|Stockholm|Östermalm            |29476870|1                     |100                 |98        |\n",
      "|Stockholm|Östermalm            |34103723|2                     |100                 |303       |\n",
      "|Stockholm|Östermalm            |18496113|3                     |99                  |303       |\n",
      "+---------+---------------------+--------+----------------------+--------------------+----------+\n",
      "\n"
     ]
    }
   ],
   "source": [
    "# We start by filtering off all the columns that do not have a rating. \n",
    "stockholm_df = stockholm_df.filter(f.col('review_scores_rating').isNotNull())\n",
    "\n",
    "# We then define a column \"Value\" as described above: Ratingn divided by the price\n",
    "stockholm_df = stockholm_df.withColumn('Value', f.col('review_scores_rating')/f.col('priceAsInt'))\n",
    "\n",
    "#We then add a window to partition by neighbourhood and sort by descending value. \n",
    "sorted_by_value_window = Window.partitionBy('neighbourhood').orderBy(f.desc('Value'))\n",
    "\n",
    "# We add a NeighbourhoodValueRank, which is a rank over each listings value\n",
    "ranked_df = stockholm_df.withColumn('NeighbourhoodValueRank', f.rank().over(sorted_by_value_window))\n",
    "\n",
    "# We then filter so we only show the top three of every neighbourhood. And orderby neighbourhood in descending order\n",
    "ranked_df.filter(f.col('NeighbourhoodValueRank') <= 3).select('city','neighbourhood','id','NeighbourhoodValueRank','review_scores_rating','priceAsInt').orderBy('neighbourhood', f.desc('Value')).show(1000, False)"
   ]
  },
  {
   "cell_type": "markdown",
   "metadata": {},
   "source": [
    "## Trends\n",
    "Now we want to analyze the \"popularity\" of your city. The data does not contain the number of bookings per listing, but we have a large number of reviews, and we will assume that this is a good indicator of activity on listings."
   ]
  },
  {
   "cell_type": "markdown",
   "metadata": {},
   "source": [
    "Compute and visualize the popularity (i.e., number of reviews) of your city over time."
   ]
  },
  {
   "cell_type": "code",
   "execution_count": 16,
   "metadata": {},
   "outputs": [],
   "source": [
    "# We take only the id, city and the neighbourhood from the original listings dataframe\n",
    "city_id_df = df.select(f.col('id'),f.col('city'), f.col('neighbourhood'))\n",
    "# We rename listings_id to id, so that it matches the id column of the reviews dataframe. \n",
    "city_id_df = city_id_df.withColumnRenamed('id', 'listing_id')\n",
    "\n",
    "# The two data frames are then joined on the column id. That way we get a new dataframe with the columns from the \n",
    "# Reviews dataframe with city and neighbourhoods in it. \n",
    "rwc_df = dfReviews.join(city_id_df, on=['listing_id'] )"
   ]
  },
  {
   "cell_type": "code",
   "execution_count": 17,
   "metadata": {},
   "outputs": [
    {
     "data": {
      "text/plain": [
       "<matplotlib.axes._subplots.AxesSubplot at 0x7f40eea89c18>"
      ]
     },
     "execution_count": 17,
     "metadata": {},
     "output_type": "execute_result"
    },
    {
     "data": {
      "image/png": "[encoded data removed]",
      "text/plain": [
       "<Figure size 432x288 with 1 Axes>"
      ]
     },
     "metadata": {
      "needs_background": "light"
     },
     "output_type": "display_data"
    }
   ],
   "source": [
    "# We then filter by our city Stockholm\n",
    "reviews_stockholm_df = rwc_df.filter(f.col('city')=='Stockholm')\n",
    "\n",
    "#For the plot of number of reviews over time we first group by date\n",
    "# Then we count the number of reviews for those dates and sort them. \n",
    "plot_reviews_df = reviews_stockholm_df.groupBy(f.col('date')).count().sort('date')\n",
    "\n",
    "# We truncate all dates to the first of each month, to get a graph that is more readable.\n",
    "plot_review_by_month_df = plot_reviews_df.withColumn(\"date\", f.trunc(\"date\", \"month\"))\n",
    "\n",
    "#Conversion into Pandas Dataframe for plotting purposes.\n",
    "pandasdfReviews = plot_review_by_month_df.toPandas()\n",
    "\n",
    "#We plot the number of reviews over time. \n",
    "pandasdfReviews.plot(x='date', y='count')"
   ]
  },
  {
   "cell_type": "markdown",
   "metadata": {},
   "source": [
    "Compute and visualize the popularity of neighbourhoods over time. If there are many neighbourhoods in your city, you should select a few interesting ones for comparison."
   ]
  },
  {
   "cell_type": "code",
   "execution_count": 18,
   "metadata": {},
   "outputs": [
    {
     "data": {
      "text/plain": [
       "<matplotlib.axes._subplots.AxesSubplot at 0x7f40ee8fedd8>"
      ]
     },
     "execution_count": 18,
     "metadata": {},
     "output_type": "execute_result"
    },
    {
     "data": {
      "image/png": "[encoded data removed]",
      "text/plain": [
       "<Figure size 432x288 with 1 Axes>"
      ]
     },
     "metadata": {
      "needs_background": "light"
     },
     "output_type": "display_data"
    }
   ],
   "source": [
    "# We pick three interesting neighbourhoods of Stockholm; \n",
    "# Östermalm, Norrmalm and Kungsholm. These are defined by filtering on the chosen neighbourhoods. \n",
    "ostermalm_df = reviews_stockholm_df.filter(f.col('neighbourhood') =='Östermalm')\n",
    "norrmalm_df = reviews_stockholm_df.filter(f.col('neighbourhood') =='Norrmalm')\n",
    "kungsholmen_df = reviews_stockholm_df.filter(f.col('neighbourhood') =='Kungsholmen')\n",
    "\n",
    "#The following code is the same for the three neighbourhood, therefore it is only commented here. \n",
    "\n",
    "#We start by group by date and count them and sort these. \n",
    "plot_ostermalm_df = ostermalm_df.groupBy(f.col('date')).count().sort('date')\n",
    "# We truncate all dates to the first of each month, to get a graph that is more readable.\n",
    "plot_ostermalm_by_month_df = plot_ostermalm_df.withColumn(\"date\", f.trunc(\"date\", \"month\"))\n",
    "\n",
    "#Conversion into Pandas Dataframe for plotting purposes.\n",
    "pdOstermalm = plot_ostermalm_by_month_df.toPandas()\n",
    "\n",
    "#We plot the number of reviews over time. \n",
    "pdOstermalm.plot(x='date', y='count')"
   ]
  },
  {
   "cell_type": "code",
   "execution_count": null,
   "metadata": {},
   "outputs": [],
   "source": [
    "plot_norrmalm_df = norrmalm_df.groupBy(f.col('date')).count().sort('date')\n",
    "plot_norrmalm_by_month_df = plot_norrmalm_df.withColumn(\"date\", f.trunc(\"date\", \"month\"))\n",
    "pdNorrmalm = plot_norrmalm_by_month_df.toPandas()\n",
    "\n",
    "pdNorrmalm.plot(x='date', y='count')"
   ]
  },
  {
   "cell_type": "code",
   "execution_count": null,
   "metadata": {},
   "outputs": [],
   "source": [
    "plot_kungsholmen_df = kungsholmen_df.groupBy(f.col('date')).count().sort('date')\n",
    "plot_kungsholmen_by_month_df = plot_kungsholmen_df.withColumn(\"date\", f.trunc(\"date\", \"month\"))\n",
    "pdkungsholmen = plot_kungsholmen_by_month_df.toPandas()\n",
    "\n",
    "pdkungsholmen.plot(x='date', y='count')"
   ]
  },
  {
   "cell_type": "markdown",
   "metadata": {},
   "source": [
    "Compute and visualize the popularity of your city by season. For example, visualize the popularity of your city per month."
   ]
  },
  {
   "cell_type": "code",
   "execution_count": null,
   "metadata": {},
   "outputs": [],
   "source": [
    "# To plot the popularity we group by the month of the date column. That is, we take a date and the only extract the month\n",
    "# We then have all reviews only by thier month. The year and the date is gone. \n",
    "# We then count and sort them,\n",
    "# convert them into a pandas dataframe and plot them in the number of reviews pr month. \n",
    "\n",
    "plot_review_by_month_df.groupBy(f.month('date').alias('month')).count().sort(f.col('month')).toPandas().plot(x='month', y='count')"
   ]
  },
  {
   "cell_type": "markdown",
   "metadata": {},
   "source": [
    "## Reviews\n",
    "In this part you should determine which words used in reviews that are the most positive. \n",
    "\n",
    "The individual reviews do not have a rating of the listing, so we will assume that each review gave the average rating to the listing, i.e., the one on the listing.\n",
    "\n",
    "You should assign a positivity weight to each word seen in reviews and list the words with the highest weight. It is up to you to decide what the weight should be. For example, it can be a function of the rating on the listing on which it occurs, the number of reviews it occurs in, and the number of unique listings for which it was used to review.\n",
    "\n",
    "Depending on your choice of weight function, you may also want to do some filtering of words. For example, remove words that only occur in a few reviews."
   ]
  },
  {
   "cell_type": "code",
   "execution_count": null,
   "metadata": {},
   "outputs": [],
   "source": [
    "def text_to_words(text):\n",
    "    # Make all chars lowercase\n",
    "    lowercase = text.lower()\n",
    "    #Build translation table - From punctiuation map to nothing\n",
    "    table = str.maketrans(\"\",\"\",string.punctuation)\n",
    "    # translate string by translation table\n",
    "    noPunct = lowercase.translate(table)\n",
    "    # Split the string into a list with no delimiter\n",
    "    result = noPunct.split()\n",
    "    return result\n",
    "\n",
    "\n",
    "avg_id_df = df.select(f.col('id'),f.col('review_scores_rating'))\n",
    "avg_id_df = avg_id_df.withColumnRenamed('id', 'listing_id')\n",
    "avg_reviews_df = dfReviews.join(avg_id_df, on=['listing_id'])\n",
    "avg_reviews_df.select(f.col('comments'), f.col('review_scores_rating'))#.show()\n",
    "#avg_reviews_df.show()\n",
    "avg_reviews_df = avg_reviews_df.select(f.explode(f.split('comments', \" \")),'review_scores_rating').withColumnRenamed('col', 'word')\n",
    "avg_reviews_df = avg_reviews_df.groupBy('word').agg(f.count('review_scores_rating'),f.sum('review_scores_rating'))\n",
    "avg_reviews_df = avg_reviews_df.withColumn('value', f.col('sum(review_scores_rating)')/f.col('count(review_scores_rating)'))\n",
    "avg_reviews_df = avg_reviews_df.filter(f.col('count(review_scores_rating)') > 50)\n",
    "#avg_reviews_df = avg_reviews_df.filter(f.col('word')) =>)  #x => x.length>0\n",
    "avg_reviews_df = avg_reviews_df.orderBy(f.desc('value'))\n",
    "#stockholm_df = stockholm_df.withColumn('Value', f.col('review_scores_rating')/f.col('priceAsInt'))\n",
    "\n",
    "#stockholm_df =df.filter(f.col('city')=='Stockholm')\n",
    "\n",
    "avg_reviews_df.select('word','value').show()\n",
    "#df.groupBy('city').agg(f.countDistinct('id')"
   ]
  },
  {
   "cell_type": "code",
   "execution_count": null,
   "metadata": {},
   "outputs": [],
   "source": [
    "rating = 98\n",
    "word = \"hello, my name is\"\n",
    "rating2 = 2\n",
    "word1 = \"Hello\"\n",
    "rating3 = 22\n",
    "\n",
    "#register_comment_rating(word,rating)\n",
    "#register_comment_rating(word,rating2)\n",
    "#register_comment_rating(word1,rating2)\n",
    "#register_comment_rating(word1,rating3)\n",
    "\n",
    "register_word_rating_udf = f.udf(register_comment_rating)\n",
    "\n",
    "print(word_dict)"
   ]
  },
  {
   "cell_type": "code",
   "execution_count": null,
   "metadata": {},
   "outputs": [],
   "source": [
    "#avg_reviews_df.foreach(register_comment_rating('comment',1))\n",
    "#.explain()\n",
    "#register_word_rating_udf(f.col('comments'),f.col('review_scores_rating'))"
   ]
  },
  {
   "cell_type": "code",
   "execution_count": null,
   "metadata": {},
   "outputs": [],
   "source": [
    "print(word_dict)"
   ]
  },
  {
   "cell_type": "code",
   "execution_count": null,
   "metadata": {},
   "outputs": [],
   "source": [
    "avg_reviews_df.foreach"
   ]
  },
  {
   "cell_type": "code",
   "execution_count": null,
   "metadata": {},
   "outputs": [],
   "source": []
  }
 ],
 "metadata": {
  "kernelspec": {
   "display_name": "Python 3",
   "language": "python",
   "name": "python3"
  },
  "language_info": {
   "codemirror_mode": {
    "name": "ipython",
    "version": 3
   },
   "file_extension": ".py",
   "mimetype": "text/x-python",
   "name": "python",
   "nbconvert_exporter": "python",
   "pygments_lexer": "ipython3",
   "version": "3.7.3"
  }
 },
 "nbformat": 4,
 "nbformat_minor": 2
}
