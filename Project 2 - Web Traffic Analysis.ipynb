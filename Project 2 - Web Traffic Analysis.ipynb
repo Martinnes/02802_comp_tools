{
 "cells": [
  {
   "cell_type": "markdown",
   "metadata": {},
   "source": [
    "# Project 2: Web Traffic Analysis\n",
    "**This is the second of three mandatory projects to be handed in as part of the assessment for the course 02807 Computational Tools for Data Science at Technical University of Denmark, autumn 2019.**\n",
    "\n",
    "#### Practical info\n",
    "- **The project is to be done in groups of at most 3 students**\n",
    "- **Each group has to hand in _one_ Jupyter notebook (this notebook) with their solution**\n",
    "- **The hand-in of the notebook is due 2019-11-10, 23:59 on DTU Inside**\n",
    "\n",
    "#### Your solution\n",
    "- **Your solution should be in Python**\n",
    "- **For each question you may use as many cells for your solution as you like**\n",
    "- **You should document your solution and explain the choices you've made (for example by using multiple cells and use Markdown to assist the reader of the notebook)**\n",
    "- **You should not remove the problem statements**\n",
    "- **Your notebook should be runnable, i.e., clicking [>>] in Jupyter should generate the result that you want to be assessed**\n",
    "- **You are not expected to use machine learning to solve any of the exercises**\n",
    "- **You will be assessed according to correctness and readability of your code, choice of solution, choice of tools and libraries, and documentation of your solution**"
   ]
  },
  {
   "cell_type": "markdown",
   "metadata": {},
   "source": [
    "## Introduction\n",
    "In this project your task is to analyze a stream of log entries. A log entry consists of an [IP address](https://en.wikipedia.org/wiki/IP_address) and a [domain name](https://en.wikipedia.org/wiki/Domain_name). For example, a log line may look as follows:\n",
    "\n",
    "`192.168.0.1 somedomain.dk`\n",
    "\n",
    "One log line is the result of the event that the domain name was visited by someone having the corresponding IP address. Your task is to analyze the traffic on a number of domains. Counting the number of unique IPs seen on a domain doesn't correspond to the exact number of unique visitors, but it is a good estimate.\n",
    "\n",
    "Specifically, you should answer the following questions from the stream of log entries.\n",
    "\n",
    "- How many unique IPs are there in the stream?\n",
    "- How many unique IPs are there for each domain?\n",
    "- How many times was IP X seen on domain Y? (for some X and Y provided at run time)\n",
    "\n",
    "**The answers to these questions can be approximate!**\n",
    "\n",
    "You should also try to answer one or more of the following, more advanced, questions. The answers to these should also be approximate.\n",
    "\n",
    "- How many unique IPs are there for the domains $d_1, d_2, \\ldots$?\n",
    "- How many times was IP X seen on domains $d_1, d_2, \\ldots$?\n",
    "- What are the X most frequent IPs in the stream?\n",
    "\n",
    "You should use algorithms and data structures that you've learned about in the lectures, and you should provide your own implementations of these.\n",
    "\n",
    "Furthermore, you are expected to:\n",
    "\n",
    "- Document the accuracy of your answers when using algorithms that give approximate answers\n",
    "- Argue why you are using certain parameters for your data structures\n",
    "\n",
    "This notebook is in three parts. In the first part you are given an example of how to read from the stream (which for the purpose of this project is a remote file). In the second part you should implement the algorithms and data structures that you intend to use, and in the last part you should use these for analyzing the stream."
   ]
  },
  {
   "cell_type": "markdown",
   "metadata": {},
   "source": [
    "## Reading the stream\n",
    "The following code reads a remote file line by line. It is wrapped in a generator to make it easier to extend. You may modify this if you want to, but your solution should remain parametrized, so that your notebook can be run without having to consume the entire file."
   ]
  },
  {
   "cell_type": "code",
   "execution_count": 1,
   "metadata": {},
   "outputs": [],
   "source": [
    "import urllib\n",
    "\n",
    "def stream(n):\n",
    "    i = 0\n",
    "    with urllib.request.urlopen('https://files.dtu.dk/fss/public/link/public/stream/read/traffic_2?linkToken=_DcyO-U3MjjuNzI-&itemName=traffic_2') as f:\n",
    "        for line in f:\n",
    "            element = line.rstrip().decode(\"utf-8\")\n",
    "            yield element\n",
    "            i += 1\n",
    "            if i == n:\n",
    "                break"
   ]
  },
  {
   "cell_type": "code",
   "execution_count": 2,
   "metadata": {},
   "outputs": [],
   "source": [
    "STREAM_SIZE = 1000\n",
    "web_traffic_stream = stream(STREAM_SIZE)\n",
    "\n",
    "#for e in web_traffic_stream:\n",
    "    #print(e)"
   ]
  },
  {
   "cell_type": "markdown",
   "metadata": {},
   "source": [
    "## Data structures"
   ]
  },
  {
   "cell_type": "code",
   "execution_count": 3,
   "metadata": {},
   "outputs": [],
   "source": [
    "import mmh3\n",
    "import math\n",
    "\n",
    "\n",
    "class HyperLogLog: \n",
    "    def __init__(self):\n",
    "        self._part = 10\n",
    "        self._m = 2**self._part\n",
    "        self._alpha = 0.7213/(1+1.079/self._m)\n",
    "        self._M = [0 for i in range(0,self._m)]\n",
    "    \n",
    "    \n",
    "    def add(self, elem):\n",
    "        x = mmh3.hash(str(elem), signed=False)\n",
    "        binary = '{0:032b}'.format(x)\n",
    "        #part = int(math.log(64, 2))\n",
    "        upperpart = binary[:self._part]\n",
    "        lowerpart = binary[self._part:]\n",
    "        j = int(upperpart,2)\n",
    "\n",
    "        self._M[j] = max(self._M[j], len(lowerpart) - (int(lowerpart,2).bit_length()+1))\n",
    "\n",
    "        pass\n",
    "    \n",
    "    def hashElement(element):\n",
    "        # mmh3 64 outputs a 128 bit hash split in to two 64 bit outputs. \n",
    "        #For this purpose returning one of them will be sufficient\n",
    "        a,b = mmh3.hash64(str(element), signed=False)\n",
    "        return a\n",
    "\n",
    "    def estimate(self):\n",
    "        E = self._alpha*self._m**2*(sum([2**-number for number in self._M])**-1)\n",
    "        V = self._M.count(0)\n",
    "        \n",
    "        if E <= (5/2)*self._m:\n",
    "            if V != 0:\n",
    "                EStar = self.LinearCounting(V)*2\n",
    "            else:\n",
    "                EStar = E\n",
    "        elif E <= (1/30)*pow(2,32):\n",
    "            EStar = E\n",
    "        else: \n",
    "            EStar = -pow(2^32)*math.log2(1-E/pow(2,32))\n",
    "        \n",
    "        return EStar\n",
    "    \n",
    "    def LinearCounting(self, V):\n",
    "        return self._m*math.log2(self._m/V)\n",
    "    \n",
    "    def Merge(self, other):\n",
    "        res = HyperLogLog()\n",
    "        res._M = [max(self._M[i],other._M[i]) for i in range(0,self._m)]\n",
    "        return res"
   ]
  },
  {
   "cell_type": "code",
   "execution_count": 4,
   "metadata": {},
   "outputs": [],
   "source": [
    "import numpy as np\n",
    "\n",
    "## Count min sketch\n",
    "\n",
    "d = 64\n",
    "w = 64\n",
    "def createM(d, w): \n",
    "    table = np.zeros([d, w])\n",
    "    return table\n",
    "\n",
    "def generateSeeds(d, w):\n",
    "    seeds = np.random.randint(w, size = d)\n",
    "    return seeds\n",
    "\n",
    "\n",
    "def increment(seeds, key, table, d, w):\n",
    "    for i in range(0, d):\n",
    "        index = mmh3.hash(key, seeds[i]) % w\n",
    "        table[i, index] = table[i, index]+1 \n",
    "    return table\n",
    "\n",
    "M = createM(d, w)\n",
    "seeds = generateSeeds(d,w)\n",
    "web_traffic_stream = stream(STREAM_SIZE)\n",
    "for e in web_traffic_stream:\n",
    "    increment(seeds,e,M,d,w)\n",
    "    \n",
    "def estimateCountMinResult(seeds, table, key, d, w):\n",
    "        min_est = 100000\n",
    "        for i in range(0, d):\n",
    "            index = mmh3.hash(key, seeds[i]) % w\n",
    "            #print(\"index\" + str(index))\n",
    "            #print(\"value\" + str(table[i, index]))\n",
    "            if table[i, index] < min_est:\n",
    "                min_est = table[i, index]\n",
    "        return min_est\n",
    "\n",
    "def init_countMinSketch(d,w,seed):\n",
    "    M = createM(d, w)\n",
    "    return M\n",
    "\n",
    "def addElementToCountMinSketch(element,M):\n",
    "    M = increment(seed,ip,M,d,w)\n",
    "    return M\n",
    "    \n",
    "def init_countMinSketchIp(d, w, seed):\n",
    "    web_traffic_stream = stream(STREAM_SIZE)\n",
    "    M = createM(d, w)\n",
    "    \n",
    "    for e in web_traffic_stream:\n",
    "        split = e.split()\n",
    "        ip = split[0]\n",
    "        domain = split[1]\n",
    "        M = increment(seed,ip,M,d,w)\n",
    "    return M\n",
    "\n",
    "def init_countMinSketchDomain(d, w, seed):\n",
    "    web_traffic_stream = stream(STREAM_SIZE)\n",
    "    M = createM(d, w)\n",
    "\n",
    "    for e in web_traffic_stream:\n",
    "        split = e.split()\n",
    "        ip = split[0]\n",
    "        domain = split[1]\n",
    "        increment(seed,domain,M,d,w)\n",
    "    return M\n",
    "\n",
    "def countIp_countMinSketch(seed, M, targetIp, d, w):\n",
    "    return (estimateCountMinResult(seed, M, targetIp, d,w))\n",
    "\n",
    "def countDomain_countMinSketch(seed, M, targetDomain, d, w):\n",
    "    return (estimateCountMinResult(seed, M, targetDomain, d,w))\n",
    "\n",
    "def countAllDomain(seed, M, targetDomain, d, w):\n",
    "    web_traffic_stream = stream(STREAM_SIZE)\n",
    "    for e in web_traffic_stream:\n",
    "        print(estimateCountMinResult(seed, M, targetDomain, d,w))\n",
    "        \n",
    "def splitElement(e):\n",
    "    split = e.split()\n",
    "    ip = split[0]\n",
    "    domain = split[1]\n",
    "    return ip, domain"
   ]
  },
  {
   "cell_type": "markdown",
   "metadata": {},
   "source": [
    "### Queries \n",
    " To answer the different queries we use the datastructures in a number of different ways. \n",
    " We start by answering _How many unique IPs are there in the stream?_ by initializing a HLL(HyperLogLog) datastructure(ds) with IP addresse.\n",
    " \n",
    " Then we answer _How many unique IPs are there for each domain?_ by having a dictionary with incomming domains as keys and a HLL ds as value. This could potentially take up a lot of space. We assume here that the domains are limited. If we were to do this without the assumption we could keep a hashmap, hash the incomming domain and use the hash as index. Then we would keep the space limited to the size of the hashmap, but we would get a greater error. \n",
    " \n",
    " To answer _How many times was IP X seen on domain Y? (for some X and Y provided at run time)_ we initalize a countMin Sketch on the whole stream with the whole element _e_ as input. As the element _e_ is composed of an ip address X and a domain Y, we can then just query the CountMinDataStructure as X concatenated with Y as the elements in the stream are composed. \n",
    " \n",
    " To answer the question _How many unique IPs are there for the domains $d_1, d_2, \\ldots$?_ we use the HLLs from the second question and use the merge function on the HLL. "
   ]
  },
  {
   "cell_type": "markdown",
   "metadata": {},
   "source": [
    "## Doing the different queries\n",
    "Preparing the data structures:"
   ]
  },
  {
   "cell_type": "code",
   "execution_count": 5,
   "metadata": {},
   "outputs": [],
   "source": [
    "from collections import defaultdict \n",
    "\n",
    "HLL_IPs = HyperLogLog()\n",
    "seed = generateSeeds(d,w)\n",
    "countMin = init_countMinSketch(64,64, seed)\n",
    "\n",
    "\n",
    "web_traffic_stream = stream(STREAM_SIZE)\n",
    "domains = {}\n",
    "\n",
    "for e in web_traffic_stream:\n",
    "    ip, domain = splitElement(e)\n",
    "    HLL_IPs.add(ip)\n",
    "    countMin = addElementToCountMinSketch(ip,countMin)\n",
    "    if domain in domains:\n",
    "        domains[domain].add(ip)\n",
    "    else:\n",
    "        dHLL = HyperLogLog()\n",
    "        dHLL.add(ip)\n",
    "        domains[domain] = dHLL\n",
    "    "
   ]
  },
  {
   "cell_type": "markdown",
   "metadata": {},
   "source": [
    "_How many unique IPs are there for each domain?_"
   ]
  },
  {
   "cell_type": "code",
   "execution_count": 6,
   "metadata": {},
   "outputs": [
    {
     "data": {
      "text/plain": [
       "678.1235522227261"
      ]
     },
     "execution_count": 6,
     "metadata": {},
     "output_type": "execute_result"
    }
   ],
   "source": [
    "HLL_IPs.estimate()"
   ]
  },
  {
   "cell_type": "markdown",
   "metadata": {},
   "source": [
    "How many unique IPs are there for each domain?"
   ]
  },
  {
   "cell_type": "code",
   "execution_count": 7,
   "metadata": {},
   "outputs": [
    {
     "name": "stdout",
     "output_type": "stream",
     "text": [
      "python.org            190.68806019375404\n",
      "wikipedia.org            348.72783854375194\n",
      "pandas.pydata.org            93.80595632767948\n",
      "dtu.dk            2.8867998815669296\n",
      "google.com            17.363259236975825\n",
      "databricks.com            8.668875002262649\n",
      "github.com            8.668875002262649\n",
      "spark.apache.org            5.776423039751338\n",
      "datarobot.com            2.8867998815669296\n"
     ]
    }
   ],
   "source": [
    "for domain in domains: \n",
    "    print(domain, \"          \" ,domains[domain].estimate())"
   ]
  },
  {
   "cell_type": "markdown",
   "metadata": {},
   "source": [
    "How many times was IP X seen on domain Y? "
   ]
  },
  {
   "cell_type": "code",
   "execution_count": 8,
   "metadata": {},
   "outputs": [
    {
     "name": "stdout",
     "output_type": "stream",
     "text": [
      "8.0\n",
      "8.0\n"
     ]
    }
   ],
   "source": [
    "key = '138.74.228.219'\n",
    "print(estimateCountMinResult(seed, M, key, 64, 64))\n",
    "\n",
    "key2 = '202.152.82.171'\n",
    "print(estimateCountMinResult(seed, M, key2, 64, 64))"
   ]
  },
  {
   "cell_type": "markdown",
   "metadata": {},
   "source": [
    "_How many unique IPs are there for the domains $d_1, d_2, \\ldots$?_"
   ]
  },
  {
   "cell_type": "code",
   "execution_count": 9,
   "metadata": {},
   "outputs": [
    {
     "name": "stdout",
     "output_type": "stream",
     "text": [
      "Merge between pandas.pydata.org and wikipedia.org has 437.71980257594186 unique IPs\n",
      "Merge between google.com and datarobot.com has 20.26708201984003 unique IPs\n",
      "Merge between pandas.pydata.org , wikipedia.org , google.com and datarobot.com has 461.23610193679673 unique IPs\n"
     ]
    }
   ],
   "source": [
    "domain1 = 'pandas.pydata.org'\n",
    "domain2 = 'wikipedia.org'\n",
    "domain3 = 'google.com'\n",
    "domain4 = 'datarobot.com'\n",
    "\n",
    "mergeHLL1_2 = domains[domain1].Merge(domains[domain2])\n",
    "print('Merge between', domain1, 'and', domain2, 'has' , mergeHLL1_2.estimate(), 'unique IPs')\n",
    "\n",
    "mergeHLL3_4 = domains[domain3].Merge(domains[domain4])\n",
    "print('Merge between', domain3, 'and', domain4, 'has' , mergeHLL3_4.estimate(), 'unique IPs')\n",
    "\n",
    "mergeHLL1234 = mergeHLL1_2.Merge(mergeHLL3_4)\n",
    "print('Merge between', domain1, ',', domain2 , ',', domain3,'and', domain4, 'has' , mergeHLL1234.estimate(), 'unique IPs')\n"
   ]
  },
  {
   "cell_type": "markdown",
   "metadata": {},
   "source": [
    "## Analysis"
   ]
  },
  {
   "cell_type": "markdown",
   "metadata": {},
   "source": []
  }
 ],
 "metadata": {
  "kernelspec": {
   "display_name": "Python 3",
   "language": "python",
   "name": "python3"
  },
  "language_info": {
   "codemirror_mode": {
    "name": "ipython",
    "version": 3
   },
   "file_extension": ".py",
   "mimetype": "text/x-python",
   "name": "python",
   "nbconvert_exporter": "python",
   "pygments_lexer": "ipython3",
   "version": "3.7.3"
  }
 },
 "nbformat": 4,
 "nbformat_minor": 2
}
