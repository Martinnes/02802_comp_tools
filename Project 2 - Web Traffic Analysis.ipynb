{
 "cells": [
  {
   "cell_type": "markdown",
   "metadata": {},
   "source": [
    "# Project 2: Web Traffic Analysis\n",
    "**This is the second of three mandatory projects to be handed in as part of the assessment for the course 02807 Computational Tools for Data Science at Technical University of Denmark, autumn 2019.**\n",
    "\n",
    "#### Practical info\n",
    "- **The project is to be done in groups of at most 3 students**\n",
    "- **Each group has to hand in _one_ Jupyter notebook (this notebook) with their solution**\n",
    "- **The hand-in of the notebook is due 2019-11-10, 23:59 on DTU Inside**\n",
    "\n",
    "#### Your solution\n",
    "- **Your solution should be in Python**\n",
    "- **For each question you may use as many cells for your solution as you like**\n",
    "- **You should document your solution and explain the choices you've made (for example by using multiple cells and use Markdown to assist the reader of the notebook)**\n",
    "- **You should not remove the problem statements**\n",
    "- **Your notebook should be runnable, i.e., clicking [>>] in Jupyter should generate the result that you want to be assessed**\n",
    "- **You are not expected to use machine learning to solve any of the exercises**\n",
    "- **You will be assessed according to correctness and readability of your code, choice of solution, choice of tools and libraries, and documentation of your solution**"
   ]
  },
  {
   "cell_type": "markdown",
   "metadata": {},
   "source": [
    "## Introduction\n",
    "In this project your task is to analyze a stream of log entries. A log entry consists of an [IP address](https://en.wikipedia.org/wiki/IP_address) and a [domain name](https://en.wikipedia.org/wiki/Domain_name). For example, a log line may look as follows:\n",
    "\n",
    "`192.168.0.1 somedomain.dk`\n",
    "\n",
    "One log line is the result of the event that the domain name was visited by someone having the corresponding IP address. Your task is to analyze the traffic on a number of domains. Counting the number of unique IPs seen on a domain doesn't correspond to the exact number of unique visitors, but it is a good estimate.\n",
    "\n",
    "Specifically, you should answer the following questions from the stream of log entries.\n",
    "\n",
    "- How many unique IPs are there in the stream?\n",
    "- How many unique IPs are there for each domain?\n",
    "- How many times was IP X seen on domain Y? (for some X and Y provided at run time)\n",
    "\n",
    "**The answers to these questions can be approximate!**\n",
    "\n",
    "You should also try to answer one or more of the following, more advanced, questions. The answers to these should also be approximate.\n",
    "\n",
    "- How many unique IPs are there for the domains $d_1, d_2, \\ldots$?\n",
    "- How many times was IP X seen on domains $d_1, d_2, \\ldots$?\n",
    "- What are the X most frequent IPs in the stream?\n",
    "\n",
    "You should use algorithms and data structures that you've learned about in the lectures, and you should provide your own implementations of these.\n",
    "\n",
    "Furthermore, you are expected to:\n",
    "\n",
    "- Document the accuracy of your answers when using algorithms that give approximate answers\n",
    "- Argue why you are using certain parameters for your data structures\n",
    "\n",
    "This notebook is in three parts. In the first part you are given an example of how to read from the stream (which for the purpose of this project is a remote file). In the second part you should implement the algorithms and data structures that you intend to use, and in the last part you should use these for analyzing the stream."
   ]
  },
  {
   "cell_type": "markdown",
   "metadata": {},
   "source": [
    "## Reading the stream\n",
    "The following code reads a remote file line by line. It is wrapped in a generator to make it easier to extend. You may modify this if you want to, but your solution should remain parametrized, so that your notebook can be run without having to consume the entire file."
   ]
  },
  {
   "cell_type": "code",
   "execution_count": 138,
   "metadata": {},
   "outputs": [],
   "source": [
    "import urllib\n",
    "\n",
    "def stream(n):\n",
    "    i = 0\n",
    "    with urllib.request.urlopen('https://files.dtu.dk/fss/public/link/public/stream/read/traffic_2?linkToken=_DcyO-U3MjjuNzI-&itemName=traffic_2') as f:\n",
    "        for line in f:\n",
    "            element = line.rstrip().decode(\"utf-8\")\n",
    "            yield element\n",
    "            i += 1\n",
    "            if i == n:\n",
    "                break"
   ]
  },
  {
   "cell_type": "code",
   "execution_count": 139,
   "metadata": {},
   "outputs": [],
   "source": [
    "STREAM_SIZE = 1000\n",
    "web_traffic_stream = stream(STREAM_SIZE)"
   ]
  },
  {
   "cell_type": "markdown",
   "metadata": {},
   "source": [
    "## Data structures"
   ]
  },
  {
   "cell_type": "code",
   "execution_count": 187,
   "metadata": {},
   "outputs": [
    {
     "name": "stdout",
     "output_type": "stream",
     "text": [
      "[0, 0, 0, 0, 0, 0, 0, 0, 0, 0, 0, 0, 0, 0, 0, 13, 11, 12, 14, 12, 14, 22, 13, 16, 13, 17, 20, 19, 16, 13, 14, 10, 15, 17, 9, 11, 13, 8, 11, 12, 11, 10, 11, 13, 13, 11, 10, 13, 12, 9, 11, 15, 9, 14, 11, 12, 12, 11, 10, 10, 11, 10, 13]\n"
     ]
    },
    {
     "data": {
      "text/plain": [
       "0"
      ]
     },
     "execution_count": 187,
     "metadata": {},
     "output_type": "execute_result"
    }
   ],
   "source": [
    "import mmh3\n",
    "import random\n",
    "import sys\n",
    "import math\n",
    "import statistics as s\n",
    "# number of hash functions (63 bit (signed))\n",
    "\n",
    "def hashElement(element, seed):\n",
    "    a,b = mmh3.hash64(element, seed, signed=False)\n",
    "    return a\n",
    "\n",
    "\n",
    "\n",
    "def buildDataStructure(stream, streamSize, rnd):\n",
    "    m = 63;\n",
    "    M = [0]*m\n",
    "    seed = 42\n",
    "    if(rnd):\n",
    "        seed = random.randint(0,sys.maxsize/2)\n",
    "    #Hash every element in the stream\n",
    "    for e in stream:\n",
    "        hE = hashElement(e, seed)\n",
    "        bitstring = hE\n",
    "        size_upper_part = math.floor(math.log(bitstring.bit_length(),2))\n",
    "        size_lower_part = bitstring.bit_length() - size_upper_part\n",
    "        upperpart = bitstring >> size_lower_part\n",
    "        lowerpart = bitstring & ((2 ** size_lower_part) -1)\n",
    "        # p is the position of the left most bit\n",
    "        p = 64 - int(math.log(lowerpart,2))\n",
    "        # j is the integer representation of the upperpart +1\n",
    "        j = upperpart - 1\n",
    "        #if(p>M[j]): print(str(p)); print(bin(upperpart))\n",
    "        #if(j>=63):\n",
    "            #print(\"upper: \" + str(upperpart))\n",
    "            #print(\"lower: \" + bin(lowerpart))\n",
    "            #print(\"hash:  \" + bin(hE))\n",
    "        M[j] = max(M[j],p)\n",
    "    return M\n",
    "\n",
    "def getHarmonicMean(dataStucture):\n",
    "    return s.harmonic_mean(dataStucture)\n",
    "\n",
    "\n",
    "web_traffic_stream = stream(STREAM_SIZE)\n",
    "ds = buildDataStructure(web_traffic_stream, STREAM_SIZE, True)\n",
    "print(ds)\n",
    "getHarmonicMean(ds)\n",
    "\n",
    "# It seams to work now. Except the getHarmonicMean. The data structure returns 0 in the first 15 slots. "
   ]
  },
  {
   "cell_type": "code",
   "execution_count": 72,
   "metadata": {},
   "outputs": [
    {
     "name": "stdout",
     "output_type": "stream",
     "text": [
      "0\n",
      "0.0\n"
     ]
    }
   ],
   "source": [
    "counter=0\n",
    "o = 100000\n",
    "\n",
    "for i in range(o):\n",
    "    hE = hashElement(\"hello\", random.randint(0,sys.maxsize/2))\n",
    "    if(hE <0): counter +=1\n",
    "        \n",
    "print(counter)\n",
    "print(counter/o*100)"
   ]
  },
  {
   "cell_type": "markdown",
   "metadata": {},
   "source": [
    "## Analysis"
   ]
  },
  {
   "cell_type": "code",
   "execution_count": 120,
   "metadata": {},
   "outputs": [
    {
     "name": "stdout",
     "output_type": "stream",
     "text": [
      "org:    0b11111110011011101111001010101\n",
      "upper:  0b1111\n",
      "lower:  0b1110011011101111001010101\n",
      "Position upper: 4\n",
      "Position lower: 25\n"
     ]
    }
   ],
   "source": [
    "hE = hashElement(\"hello\", random.randint(0,sys.maxsize/2))\n",
    "#print(\"hash: \"+str(hE))\n",
    "\n",
    "bitstring = hE\n",
    "size_upper_part = math.floor(math.log(bitstring.bit_length(),2))\n",
    "size_lower_part = bitstring.bit_length() - size_upper_part\n",
    "upperpart = bitstring >> size_lower_part\n",
    "lowerpart = bitstring & ((2 ** size_lower_part) -1)\n",
    "print(\"org:    \" + bin(bitstring))\n",
    "print(\"upper:  \" + bin(upperpart))\n",
    "print(\"lower:  \" + bin(lowerpart))\n",
    "print(\"Position upper: \" + str(upperpart.bit_length()))\n",
    "print(\"Position lower: \" + str(lowerpart.bit_length()))"
   ]
  },
  {
   "cell_type": "code",
   "execution_count": 5,
   "metadata": {},
   "outputs": [
    {
     "name": "stdout",
     "output_type": "stream",
     "text": [
      "-3499686339677874721\n"
     ]
    }
   ],
   "source": [
    "import random \n",
    "import sys\n",
    "\n",
    "print(random.randint(-sys.maxsize-1,sys.maxsize));"
   ]
  },
  {
   "cell_type": "code",
   "execution_count": null,
   "metadata": {},
   "outputs": [],
   "source": []
  }
 ],
 "metadata": {
  "kernelspec": {
   "display_name": "Python 3",
   "language": "python",
   "name": "python3"
  },
  "language_info": {
   "codemirror_mode": {
    "name": "ipython",
    "version": 3
   },
   "file_extension": ".py",
   "mimetype": "text/x-python",
   "name": "python",
   "nbconvert_exporter": "python",
   "pygments_lexer": "ipython3",
   "version": "3.7.3"
  }
 },
 "nbformat": 4,
 "nbformat_minor": 2
}
